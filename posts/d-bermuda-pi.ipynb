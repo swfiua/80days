{
 "cells": [
  {
   "cell_type": "markdown",
   "metadata": {
    "collapsed": true
   },
   "source": [
    "#  Bermuda Pi"
   ]
  },
  {
   "cell_type": "markdown",
   "metadata": {
    "collapsed": true
   },
   "source": [
    "$$\\Delta \\; B\\epsilon\\rho\\mu\\delta\\alpha \\; \\Pi$$\n",
    "\n",
    "$$Number \\; -e^{i\\pi}$$"
   ]
  },
  {
   "cell_type": "markdown",
   "metadata": {
    "collapsed": true
   },
   "source": [
    "The week 10th to 18th October 2015 there is a lot happening in Bermuda.\n",
    "* TEDx Bermuda on 10th October\n",
    "\n",
    "* America's Cup racing 16th-18th October\n",
    "\n",
    "* The first anniversary of hurricanes Fay and Gonzalo\n",
    "\n",
    "This creates a good opportunity to run a number of small events around\n",
    "[Free Software]() and [Free Culture]().\n",
    "\n",
    "Science, Technology, Engineering and Mathematics [STEM]() is already\n",
    "getting a lot of attention.  This is natural in a world where there is\n",
    "so much innovation and change in current times.\n",
    "\n",
    "Throughout my life technological change has created a lot of wonderful\n",
    "things.  At the same time, humanity and social systems are struggling\n",
    "to keep pace with this change.\n",
    "\n",
    "[STEAM]() adds the Arts into STEM.  Making the Bermuda $\\pi$ a STEAM\n",
    "powered event seems a natural choice, as the event can then embrace\n",
    "Bermudian culture in general.\n",
    "\n",
    "At the same time, a hurricane can be viewed as a giant steam engine.\n",
    "Bermuda once ran a steam powered island.  How about bringing this to\n",
    "the 21st century:  *D Bermuda $\\pi$, STEAM powered*.\n",
    "\n",
    "#### Free Culture\n",
    "\n",
    "People in the free software movement have been dealing with this\n",
    "change for some time.  They have developed ways of working with\n",
    "technology that not only scale, but also enable people to build\n",
    "systems that evolve naturally over time.\n",
    "\n",
    "There is a more general Free Culture movement, publishing artistic\n",
    "material under [Creative Commons]() licenses that mirror the free\n",
    "software licenses.  Generally, these licenses allow others to build on\n",
    "the ideas and use them in their own work, usually with attribution.\n",
    "Some licenses do not permit commercial use, but many do.  Authors\n",
    "choose a license based on their own values.\n",
    "\n",
    "#### Weather and hurricanes\n",
    "\n",
    "Given the connection with Fay and Gonzalo some events would focus on\n",
    "hurricane research in the Bermuda context.\n"
   ]
  },
  {
   "cell_type": "markdown",
   "metadata": {
    "collapsed": true
   },
   "source": [
    "##Event Ideas\n",
    "\n",
    "### A Pi conference\n",
    "  - Python\n",
    "  - Raspberry Pi's\n",
    "  - Weather data\n",
    "  - Hurricane simulation\n",
    "  - Damage surveys and damage estimation\n",
    "  - Impact of climate change\n",
    "  - lightning talks\n",
    "  - python and pi's in Bermuda education\n",
    "  \n",
    "Aim for most presentations to be about activities that are going on\n",
    "already in Bermuda, with some visions for future projects.\n",
    "\n",
    "Invite others from overseas that are doing similar work.  Better\n",
    "still, people we are already collaborating with on Bermuda projects.\n",
    "\n",
    "Focus on the Bermuda context: why is what you are doing a good fit for\n",
    "Bermuda, how can it fit better?\n"
   ]
  },
  {
   "cell_type": "markdown",
   "metadata": {
    "collapsed": true
   },
   "source": [
    "### Music, Art\n",
    "Allow local musicians and artists to work and play together.  Work on\n",
    "making local artists work freely available on line.\n",
    "\n",
    "Work on ways technology can complement the arts and vice versa.\n",
    "\n",
    "### Story Telling\n",
    "\n",
    "Have people tell their hurricane stories about last year's storms.\n",
    "\n",
    "Structure in a way that the stories might inspire new ideas to gather\n",
    "data and do research based on data from previous storms."
   ]
  },
  {
   "cell_type": "markdown",
   "metadata": {
    "collapsed": true
   },
   "source": [
    "  - A 5km run over a 3.14 ($\\pi$) mile course.\n",
    "  - Pies to eat\n",
    "  - Education, teaching students using raspberry pi\n",
    "\n",
    "The ideas here are very much inspired by the way [python conferences are run](https://us.pycon.org)\n",
    "\n",
    "The aim is to have a number of small events, that together make up the `Bermuda Pi` experience.\n",
    "\n",
    "\n"
   ]
  },
  {
   "cell_type": "markdown",
   "metadata": {
    "collapsed": true
   },
   "source": [
    "Food and sustainable agriculture\n",
    "\n",
    "### Local Bermuda food\n",
    "\n",
    "### How to do sustainable agriculture"
   ]
  },
  {
   "cell_type": "markdown",
   "metadata": {
    "collapsed": true
   },
   "source": [
    "## Leisure activities\n",
    "Fay and Gonzalo parties would seem a good starter\n",
    "\n",
    "Music, story-telling, Bermudian food,\n",
    "\n",
    "Gombeys!\n",
    "\n",
    "A 5km run over a 3.14 ($\\pi$) mile course.\n",
    "\n",
    "Pies to eat!\n",
    "\n"
   ]
  },
  {
   "cell_type": "markdown",
   "metadata": {
    "collapsed": true
   },
   "source": [
    "## Weather\n",
    "\n",
    "Any event during hurricane season has to pay attention to the weather.\n",
    "\n",
    "Given that one theme of `D Bermuda Pi` will be hurricane research it\n",
    "would be unfortunate if the event were hit by a hurricane.\n",
    "\n",
    "Having said that, it would give the researchers valuable first hand experience.\n",
    "\n",
    "One project to work on during the week would be getting better\n",
    "estimates of the probability of the event being hit by bad weather.\n",
    "\n",
    "* Use long term climate features such as El Nino, the North Atlantic\n",
    "  Oscillation, and the Bermuda High to help with contingency planning\n",
    "\n",
    "* Develop tools that can help with future event planning\n",
    "\n",
    "* Study detailed windfields around the island to better understand the\n",
    "  challenges faced by the sailors.\n",
    "\n",
    "* Study tides and currents around the island\n",
    "\n",
    "[Murphy's Law]() is likely to intervene here, so in the meanwhile it\n",
    "would be good if we kept an eye on the long range hurricane forecasts\n",
    "and nearer the time be in a position to work with Bermuda Weather and\n",
    "have plans in place in the event of bad weather.\n"
   ]
  },
  {
   "cell_type": "markdown",
   "metadata": {
    "collapsed": true
   },
   "source": [
    "## Sustainablility and environmental impact\n",
    "\n"
   ]
  },
  {
   "cell_type": "markdown",
   "metadata": {
    "collapsed": true
   },
   "source": [
    "## Renewable Energy"
   ]
  },
  {
   "cell_type": "markdown",
   "metadata": {
    "collapsed": true
   },
   "source": [
    "## Information security and privacy\n",
    "\n"
   ]
  },
  {
   "cell_type": "markdown",
   "metadata": {
    "collapsed": true
   },
   "source": [
    "## Cryptocurrencies, Bitcoin\n"
   ]
  },
  {
   "cell_type": "markdown",
   "metadata": {
    "collapsed": true
   },
   "source": [
    "## Bermuda Based Organisations\n",
    "\n",
    "* BIOS station\n",
    "* Bermuda Weather\n",
    "* BEST -- sustainablility\n",
    "* code441\n",
    "* codtuna\n",
    "* Pecha Kucha\n",
    "* Chewstick\n",
    "* Others?\n"
   ]
  },
  {
   "cell_type": "markdown",
   "metadata": {
    "collapsed": true
   },
   "source": [
    "## Coding Sprint\n",
    "\n",
    "Work on free software projects for a better Bermuda."
   ]
  },
  {
   "cell_type": "markdown",
   "metadata": {
    "collapsed": true
   },
   "source": [
    "## Reinsurance\n",
    "\n",
    "Many of the reinsurers are using free software and the python language in particular.\n",
    "\n",
    "It should be possible to have a *free software in finance* track,\n",
    "perhaps along the lines of the PyData conferences.\n",
    "\n"
   ]
  },
  {
   "cell_type": "markdown",
   "metadata": {
    "collapsed": true
   },
   "source": [
    "## Visitors\n",
    "\n",
    "* Free software practitioners and enthusiasts\n",
    "* Python Foundation\n",
    "* RedHat\n",
    "* Canonical/Ubuntu\n",
    "* Environmentalists\n",
    "* Meteorologists and climate researchers\n",
    "\n"
   ]
  },
  {
   "cell_type": "markdown",
   "metadata": {
    "collapsed": true
   },
   "source": [
    "## Venues\n",
    "This will very much depend on the level of interest"
   ]
  },
  {
   "cell_type": "markdown",
   "metadata": {
    "collapsed": true
   },
   "source": [
    "Southampton Princess conference hall, used for TEDx"
   ]
  },
  {
   "cell_type": "markdown",
   "metadata": {
    "collapsed": true
   },
   "source": [
    "BIOS station\n",
    "\n",
    "The BIOS station is close to the airport and close to Paget Island (see below)."
   ]
  },
  {
   "cell_type": "markdown",
   "metadata": {
    "collapsed": true
   },
   "source": [
    "### Paget Island\n",
    "\n",
    "Paget Island is one of a number of Government run islands.  It has\n",
    "basic facilities.  It would make an excellent venue for a coding\n",
    "sprint focussing on the environment and sustainability.\n",
    "\n",
    "Bermuda is an expensive place to visit, some free sofware enthusiasts\n",
    "would be more than happy to come and camp on the island.\n",
    "\n",
    "One goal would be to make this as inclusive an event as possible,\n",
    "hence creating many different activities that will appeal to different\n",
    "demographics, but also to find ways to mix those people and give them\n",
    "new experiences.\n",
    "\n",
    "The buildings and infrastructure on Paget Island are in need of some\n",
    "TLC.  It would be good to work towards building a place run on\n",
    "renewable energy, environmentally positive where people can come to\n",
    "study how we are doing things in Bermuda.\n",
    "\n",
    "The philosophy of a camp on the island would be to leave the place\n",
    "better than it is found."
   ]
  },
  {
   "cell_type": "markdown",
   "metadata": {
    "collapsed": true
   },
   "source": [
    "### Chewstick"
   ]
  },
  {
   "cell_type": "markdown",
   "metadata": {
    "collapsed": true
   },
   "source": [
    "### Everywhere!"
   ]
  },
  {
   "cell_type": "markdown",
   "metadata": {
    "collapsed": true
   },
   "source": [
    "## Trivia"
   ]
  },
  {
   "cell_type": "markdown",
   "metadata": {
    "collapsed": true
   },
   "source": [
    "### Around the world in 80 days\n",
    "This blog started as a blog for an idea to create an *Around the world\n",
    "in 80 days* idea, to run little competitions where people get miles\n",
    "(or kilometers) for activities.  The idea is to see how far round the\n",
    "world you can get in 80 days, with fun twists along the way.\n",
    "One idea was to do an *Around Bermuda on Bermuda Bus and Ferry*\n",
    "competition.  I learnt a lot on the project, but never quite got it\n",
    "out of the door.  But that is another story.\n",
    "\n",
    "There is a version still limping along on heroku: https://tonzone80days.herokuapp.com/\n",
    "\n",
    "Kudos to heroku.  I have a half build project running there, haven't\n",
    "checked it in ages and boom it springs into life.\n",
    "\n",
    "There are some other pieces coming together that might make the bus\n",
    "thing viable in the near future, just needs a bit of time applied to\n",
    "it.\n",
    "\n",
    "One thing that I found useful in the project was thinking in an 80 day\n",
    "time horizon.  So I was curious about what date is 80 days before 10th\n",
    "October 2015, the date for the start of the Bermuda $\\pi$.\n",
    "\n",
    "Hitting *Home* on the https://tonzone80days.herokuapp.com/ shows me this:\n",
    "\n",
    "Jun 29, 2015 is today's date\n",
    "\n",
    "Sep 17, 2015 is 80 days from today\n",
    "\n",
    "Apr 10, 2015 was 80 days ago\n",
    "\n",
    "So time for a little python."
   ]
  },
  {
   "cell_type": "code",
   "execution_count": 6,
   "metadata": {
    "collapsed": false
   },
   "outputs": [
    {
     "name": "stdout",
     "output_type": "stream",
     "text": [
      "2015-07-22\n"
     ]
    }
   ],
   "source": [
    "# lets see what python says\n",
    "import datetime\n",
    "bermuda_pi_start = datetime.date(2015, 10, 10)\n",
    "\n",
    "eighty_days_before_start = bermuda_pi_start + datetime.timedelta(days=-80)\n",
    "\n",
    "print(eighty_days_before_start)\n",
    "\n"
   ]
  },
  {
   "cell_type": "code",
   "execution_count": null,
   "metadata": {
    "collapsed": true
   },
   "outputs": [],
   "source": [
    "So things need to get started on July 22nd 2015"
   ]
  },
  {
   "cell_type": "markdown",
   "metadata": {},
   "source": [
    "$$2015^{{10}^2}$$"
   ]
  },
  {
   "cell_type": "markdown",
   "metadata": {
    "collapsed": true
   },
   "source": [
    "### What's this *Number $-e^{i\\pi}$ thing about?\n",
    "\n",
    "There is a wonderful equation in mathematics that links some of the key\n",
    "constants from the world of mathematics.\n",
    "\n",
    "There is $\\pi$, the ratio between a circle's diameter and its\n",
    "circumference. $\\pi$ turns up all the time in mathematics.\n",
    "\n",
    "Then there is _e_.\n",
    "\n",
    "Both $\\pi$ and $e$ are transcendental, a special type of number,\n",
    "although there are an infinite number of transendental numbers, when\n",
    "they turn up in mathematics they tend to be important.\n",
    "\n",
    "Then there is 1.  The special number that you can multiply any other\n",
    "number by and leave it unchanged.\n",
    "\n",
    "And there is 0.  The special number you can add to anything and leave it unchanged.\n",
    "\n",
    "The equation is known as [Euler's identity](https://en.wikipedia.org/wiki/Euler%27s_identity):\n",
    "\n",
    "$$ e^{i\\pi} + 1 = 0 $$\n",
    "\n",
    "As this would be the first Bermuda $\\pi$ it would:\n",
    "\n",
    "# Bermuda $\\pi$ Number 1 = $-e^{i\\pi}$\n",
    "\n",
    "Let's make it number one, every year.\n"
   ]
  }
 ],
 "metadata": {
  "kernelspec": {
   "display_name": "Python 3",
   "language": "python",
   "name": "python3"
  },
  "language_info": {
   "codemirror_mode": {
    "name": "ipython",
    "version": 3
   },
   "file_extension": ".py",
   "mimetype": "text/x-python",
   "name": "python",
   "nbconvert_exporter": "python",
   "pygments_lexer": "ipython3",
   "version": "3.4.3"
  },
  "name": "d-bermuda-pi.ipynb"
 },
 "nbformat": 4,
 "nbformat_minor": 0
}
