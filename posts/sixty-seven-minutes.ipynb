{
 "cells": [
  {
   "cell_type": "markdown",
   "metadata": {
    "collapsed": true,
    "tags": [
     "worksheet-0"
    ]
   },
   "source": [
    "# Nelson Mandela Day\n",
    "\n",
    "July 18th is Nelson Mandela's birthday, he would have been 97.\n",
    "\n",
    "The United Nations calls it Mandela Day, or international day for\n",
    "freedom, justice and democracy.  They say:\n",
    "\n",
    "   Every year on 18 July — the day Nelson Mandela was born — the UN\n",
    "   joins a call by the Nelson Mandela Foundation to devote 67 minutes of\n",
    "   time to helping others, as a way to mark Nelson Mandela International\n",
    "   Day.\n",
    "\n",
    "   For 67 years Nelson Mandela devoted his life to the service of\n",
    "   humanity — as a human rights lawyer, a prisoner of conscience, an\n",
    "   international peacemaker and the first democratically elected\n",
    "   president of a free South Africa.\n",
    "\n",
    "There is more here:  http://www.un.org/en/events/mandeladay/\n",
    "\n",
    "There are a number of events being organised in Bermuda.\n",
    "\n",
    "It looks like things might kick off early with this event at Bermuda College:\n",
    "\n"
   ]
  },
  {
   "cell_type": "markdown",
   "metadata": {
    "collapsed": false,
    "tags": [
     "worksheet-0"
    ]
   },
   "source": [
    "\n",
    "> On the Eve of Nelson Mandela Day\n",
    "> \n",
    "> Collaboration by:\n",
    "> \n",
    ">  ADHT,  Bermuda College, Chewstick, HRC, Imagine Bermuda\n",
    "> \n",
    "> Presents\n",
    "> \n",
    "> \n",
    "> Another Kind of ‘Happy Hour’\n",
    "> \n",
    "> \n",
    "> Based @ the Bermuda College Library\n",
    "> \n",
    "> \n",
    "> FRIDAY, JULY 17TH 5.30 – 7.30 pm\n",
    "> \n",
    "> \n",
    "> MUSIC……….POETRY………STORY-SHARING\n",
    "> \n",
    "> \n",
    "> NETWORKING…….NETPLAYING\n",
    "> \n",
    "> \n",
    "> Meet and Greet,\n",
    "> \n",
    "> Even stump your feet,\n",
    "> \n",
    "> Although Challenging,\n",
    "> \n",
    "> Remember, Life is Sweet!"
   ]
  },
  {
   "cell_type": "markdown",
   "metadata": {},
   "source": [
    "There are others planning events, I will try to post details here.\n",
    "\n",
    "I am thinking of going to different events and doing *sixty-seven minutes of pi*."
   ]
  },
  {
   "cell_type": "markdown",
   "metadata": {},
   "source": [
    "Mandela often spoke of Ubuntu:\n",
    "\n",
    "> Ubuntu does not mean that people should not enrich themselves. The\n",
    "> question therefore is: Are you going to do so in order to enable the\n",
    "> community around you to be able to improve?"
   ]
  },
  {
   "cell_type": "markdown",
   "metadata": {
    "collapsed": true,
    "tags": [
     "worksheet-0"
    ]
   },
   "source": [
    "# Trivia\n"
   ]
  },
  {
   "cell_type": "code",
   "execution_count": 7,
   "metadata": {
    "collapsed": false,
    "tags": [
     "worksheet-0"
    ]
   },
   "outputs": [],
   "source": [
    "import math\n",
    "from ipython_doctester import test\n",
    "\n",
    "# FIXME \n",
    "# ipython_doctester broken, might be this prob: https://github.com/catherinedevlin/ipython_doctester/pull/5\n",
    "#@test\n",
    "def prime(n):\n",
    "    \"\"\" Simple primality tester\n",
    "\n",
    "    Examples:\n",
    "    \n",
    "    >>> prime(15)\n",
    "    False\n",
    "\n",
    "    >>> prime(67)\n",
    "    True\n",
    "    \"\"\"\n",
    "\n",
    "    # Deal with some small numbers\n",
    "    if n <= 2: return True\n",
    "\n",
    "    factor = 2\n",
    "\n",
    "    while factor < math.sqrt(n):\n",
    "        if 0 == (n % factor): return False\n",
    "        \n",
    "        factor += 1\n",
    "\n",
    "    return True"
   ]
  },
  {
   "cell_type": "code",
   "execution_count": 9,
   "metadata": {
    "collapsed": false,
    "tags": [
     "worksheet-0"
    ]
   },
   "outputs": [
    {
     "name": "stdout",
     "output_type": "stream",
     "text": [
      "Is 67 prime?\n",
      "True\n",
      "Is 97 prime?\n",
      "True\n"
     ]
    }
   ],
   "source": [
    "\n",
    "# Is 67 prime?\n",
    "print(\"Is 67 prime?\")\n",
    "print(prime(67))\n",
    "\n",
    "# Mandela would have been 97\n",
    "print(\"Is 97 prime?\")\n",
    "print(prime(97))\n"
   ]
  },
  {
   "cell_type": "markdown",
   "metadata": {
    "collapsed": true,
    "tags": [
     "worksheet-0"
    ]
   },
   "source": [
    "# Sixty-seven minutes of $\\pi$\n",
    "\n",
    "Angles are measured in different units.  Mostly, people seem to use degrees.\n",
    "\n",
    "A right angle is 90 degrees.  The angles in a triangle add up to 180 degrees.\n",
    "\n",
    "In mathematics it is often useful to use different units, *radians*.\n",
    "\n",
    "$\\pi$ radians is equal to 180 degrees.  So the angles in a triangle\n",
    "add up to 180 degrees.\n",
    "\n",
    "Now just as there are 60 minutes in an hour, there are also 60 minutes in a degree.\n",
    "\n",
    "So, 67 minutes of $\\pi$ is just 67 minutes from 180 degrees.\n",
    "\n",
    "$$ x = \\pi * 67 / (180 * 60)$$"
   ]
  },
  {
   "cell_type": "code",
   "execution_count": 10,
   "metadata": {
    "collapsed": false
   },
   "outputs": [
    {
     "data": {
      "text/plain": [
       "0.019489509980603347"
      ]
     },
     "execution_count": 10,
     "metadata": {},
     "output_type": "execute_result"
    }
   ],
   "source": [
    "# In python\n",
    "\n",
    "math.pi * 67 / (180 * 60)"
   ]
  },
  {
   "cell_type": "code",
   "execution_count": 11,
   "metadata": {
    "collapsed": false
   },
   "outputs": [
    {
     "data": {
      "text/plain": [
       "2015"
      ]
     },
     "execution_count": 11,
     "metadata": {},
     "output_type": "execute_result"
    }
   ],
   "source": [
    "# Now 67 minutes of pi number begins 0.01948.\n",
    "\n",
    "1948 + 67 "
   ]
  },
  {
   "cell_type": "markdown",
   "metadata": {},
   "source": [
    "So if Mandela had started his campaigning on his birthday in 1948 he would still be at it today.\n",
    "\n",
    "The UN are just asking you to spend 67 minutes helping others on his birthday."
   ]
  }
 ],
 "metadata": {
  "kernelspec": {
   "display_name": "Python 3",
   "language": "python",
   "name": "python3"
  },
  "language_info": {
   "codemirror_mode": {
    "name": "ipython",
    "version": 3
   },
   "file_extension": ".py",
   "mimetype": "text/x-python",
   "name": "python",
   "nbconvert_exporter": "python",
   "pygments_lexer": "ipython3",
   "version": "3.4.3"
  },
  "name": "sixty-seven-minutes.ipynb"
 },
 "nbformat": 4,
 "nbformat_minor": 0
}
